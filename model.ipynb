{
 "cells": [
  {
   "cell_type": "code",
   "execution_count": 25,
   "metadata": {
    "id": "HV1hv_cBi-zx"
   },
   "outputs": [],
   "source": [
    "import numpy as np\n",
    "import pandas as pd\n",
    "import seaborn as sns\n",
    "import matplotlib.pyplot as plt"
   ]
  },
  {
   "cell_type": "code",
   "execution_count": 26,
   "metadata": {
    "id": "IfM0ZXowjluS"
   },
   "outputs": [],
   "source": [
    "RANDOM_STATE = 42"
   ]
  },
  {
   "cell_type": "code",
   "execution_count": 27,
   "metadata": {
    "id": "otQxpwuxjoBA"
   },
   "outputs": [],
   "source": [
    "DATASET_PATH = 'https://raw.githubusercontent.com/Burakofff/credit_scoring/main/credit_scoring.csv'\n"
   ]
  },
  {
   "cell_type": "code",
   "execution_count": 30,
   "metadata": {
    "id": "akRLgc55jyGl"
   },
   "outputs": [],
   "source": [
    "# загрузка данных\n",
    "df = pd.read_csv(DATASET_PATH)"
   ]
  },
  {
   "cell_type": "code",
   "execution_count": 31,
   "metadata": {
    "scrolled": true
   },
   "outputs": [
    {
     "name": "stdout",
     "output_type": "stream",
     "text": [
      "<class 'pandas.core.frame.DataFrame'>\n",
      "RangeIndex: 150000 entries, 0 to 149999\n",
      "Data columns (total 12 columns):\n",
      " #   Column                                Non-Null Count   Dtype  \n",
      "---  ------                                --------------   -----  \n",
      " 0   SeriousDlqin2yrs                      150000 non-null  int64  \n",
      " 1   RevolvingUtilizationOfUnsecuredLines  150000 non-null  float64\n",
      " 2   age                                   135155 non-null  float64\n",
      " 3   NumberOfTime30-59DaysPastDueNotWorse  150000 non-null  int64  \n",
      " 4   DebtRatio                             150000 non-null  float64\n",
      " 5   MonthlyIncome                         120269 non-null  float64\n",
      " 6   NumberOfOpenCreditLinesAndLoans       150000 non-null  int64  \n",
      " 7   NumberOfTimes90DaysLate               150000 non-null  int64  \n",
      " 8   NumberOfTime60-89DaysPastDueNotWorse  150000 non-null  int64  \n",
      " 9   NumberOfDependents                    146076 non-null  float64\n",
      " 10  RealEstateLoansOrLines                150000 non-null  object \n",
      " 11  GroupAge                              150000 non-null  object \n",
      "dtypes: float64(5), int64(5), object(2)\n",
      "memory usage: 13.7+ MB\n"
     ]
    }
   ],
   "source": [
    "df.info()"
   ]
  },
  {
   "cell_type": "code",
   "execution_count": null,
   "metadata": {},
   "outputs": [],
   "source": []
  },
  {
   "cell_type": "markdown",
   "metadata": {},
   "source": [
    "**Заполняем пустоты**"
   ]
  },
  {
   "cell_type": "code",
   "execution_count": 32,
   "metadata": {},
   "outputs": [
    {
     "name": "stderr",
     "output_type": "stream",
     "text": [
      "C:\\Users\\User\\AppData\\Local\\Temp\\ipykernel_19860\\3241555429.py:3: FutureWarning: A value is trying to be set on a copy of a DataFrame or Series through chained assignment using an inplace method.\n",
      "The behavior will change in pandas 3.0. This inplace method will never work because the intermediate object on which we are setting values always behaves as a copy.\n",
      "\n",
      "For example, when doing 'df[col].method(value, inplace=True)', try using 'df.method({col: value}, inplace=True)' or df[col] = df[col].method(value) instead, to perform the operation inplace on the original object.\n",
      "\n",
      "\n",
      "  df['MonthlyIncome'].fillna(mean, inplace=True)\n"
     ]
    }
   ],
   "source": [
    "mean = df['MonthlyIncome'].mean()\n",
    "\n",
    "df['MonthlyIncome'].fillna(mean, inplace=True)"
   ]
  },
  {
   "cell_type": "code",
   "execution_count": 33,
   "metadata": {},
   "outputs": [
    {
     "name": "stderr",
     "output_type": "stream",
     "text": [
      "C:\\Users\\User\\AppData\\Local\\Temp\\ipykernel_19860\\2048775952.py:3: FutureWarning: A value is trying to be set on a copy of a DataFrame or Series through chained assignment using an inplace method.\n",
      "The behavior will change in pandas 3.0. This inplace method will never work because the intermediate object on which we are setting values always behaves as a copy.\n",
      "\n",
      "For example, when doing 'df[col].method(value, inplace=True)', try using 'df.method({col: value}, inplace=True)' or df[col] = df[col].method(value) instead, to perform the operation inplace on the original object.\n",
      "\n",
      "\n",
      "  df['age'].fillna(mean, inplace=True)\n"
     ]
    }
   ],
   "source": [
    "mean = df['age'].mean()\n",
    "\n",
    "df['age'].fillna(mean, inplace=True)"
   ]
  },
  {
   "cell_type": "code",
   "execution_count": 34,
   "metadata": {},
   "outputs": [
    {
     "name": "stderr",
     "output_type": "stream",
     "text": [
      "C:\\Users\\User\\AppData\\Local\\Temp\\ipykernel_19860\\3440230904.py:1: FutureWarning: A value is trying to be set on a copy of a DataFrame or Series through chained assignment using an inplace method.\n",
      "The behavior will change in pandas 3.0. This inplace method will never work because the intermediate object on which we are setting values always behaves as a copy.\n",
      "\n",
      "For example, when doing 'df[col].method(value, inplace=True)', try using 'df.method({col: value}, inplace=True)' or df[col] = df[col].method(value) instead, to perform the operation inplace on the original object.\n",
      "\n",
      "\n",
      "  df['NumberOfDependents'].fillna(0, inplace=True)\n"
     ]
    }
   ],
   "source": [
    "df['NumberOfDependents'].fillna(0, inplace=True)"
   ]
  },
  {
   "cell_type": "code",
   "execution_count": 35,
   "metadata": {},
   "outputs": [],
   "source": [
    "X = df.drop(['SeriousDlqin2yrs'], axis=1)\n",
    "\n",
    "y = df['SeriousDlqin2yrs'] # целевая переменная (SeriousDlqin2yrs)"
   ]
  },
  {
   "cell_type": "code",
   "execution_count": 36,
   "metadata": {},
   "outputs": [
    {
     "data": {
      "text/plain": [
       "((120000, 11), (30000, 11))"
      ]
     },
     "execution_count": 36,
     "metadata": {},
     "output_type": "execute_result"
    }
   ],
   "source": [
    "from sklearn.model_selection import train_test_split\n",
    "\n",
    "X_train, X_test, y_train, y_test = train_test_split(X, y, test_size=0.20, random_state=42)\n",
    "\n",
    "X_train.shape, X_test.shape"
   ]
  },
  {
   "cell_type": "markdown",
   "metadata": {},
   "source": [
    "**Предобработаем признаки:**\n",
    "\n",
    "* закодируем категориальные признаки\n",
    "* масштабируем числовые признаки"
   ]
  },
  {
   "cell_type": "code",
   "execution_count": 37,
   "metadata": {},
   "outputs": [],
   "source": [
    "from sklearn.preprocessing import OrdinalEncoder\n",
    "from sklearn.compose import ColumnTransformer\n",
    "from sklearn.preprocessing import MinMaxScaler\n",
    "\n",
    "categorical = ['RealEstateLoansOrLines', 'GroupAge']\n",
    "numeric_features = [col for col in X_train.columns if col not in categorical]\n",
    "\n",
    "column_transformer = ColumnTransformer([\n",
    "    ('ordinal', OrdinalEncoder(), categorical),  # Заменили 'ohe' на 'ordinal' и OneHotEncoder на OrdinalEncoder\n",
    "    ('scaling', MinMaxScaler(), numeric_features)\n",
    "])\n",
    "\n",
    "X_train_transformed = column_transformer.fit_transform(X_train)\n",
    "X_test_transformed = column_transformer.transform(X_test)"
   ]
  },
  {
   "cell_type": "markdown",
   "metadata": {},
   "source": [
    "**Добавим названия колонок**"
   ]
  },
  {
   "cell_type": "code",
   "execution_count": 39,
   "metadata": {},
   "outputs": [
    {
     "data": {
      "text/html": [
       "<div>\n",
       "<style scoped>\n",
       "    .dataframe tbody tr th:only-of-type {\n",
       "        vertical-align: middle;\n",
       "    }\n",
       "\n",
       "    .dataframe tbody tr th {\n",
       "        vertical-align: top;\n",
       "    }\n",
       "\n",
       "    .dataframe thead th {\n",
       "        text-align: right;\n",
       "    }\n",
       "</style>\n",
       "<table border=\"1\" class=\"dataframe\">\n",
       "  <thead>\n",
       "    <tr style=\"text-align: right;\">\n",
       "      <th></th>\n",
       "      <th>RealEstateLoansOrLines</th>\n",
       "      <th>GroupAge</th>\n",
       "      <th>RevolvingUtilizationOfUnsecuredLines</th>\n",
       "      <th>age</th>\n",
       "      <th>NumberOfTime30-59DaysPastDueNotWorse</th>\n",
       "      <th>DebtRatio</th>\n",
       "      <th>MonthlyIncome</th>\n",
       "      <th>NumberOfOpenCreditLinesAndLoans</th>\n",
       "      <th>NumberOfTimes90DaysLate</th>\n",
       "      <th>NumberOfTime60-89DaysPastDueNotWorse</th>\n",
       "      <th>NumberOfDependents</th>\n",
       "    </tr>\n",
       "  </thead>\n",
       "  <tbody>\n",
       "    <tr>\n",
       "      <th>0</th>\n",
       "      <td>0.0</td>\n",
       "      <td>3.0</td>\n",
       "      <td>1.437848e-06</td>\n",
       "      <td>0.486239</td>\n",
       "      <td>0.0</td>\n",
       "      <td>9.416892e-07</td>\n",
       "      <td>0.006381</td>\n",
       "      <td>0.155172</td>\n",
       "      <td>0.0</td>\n",
       "      <td>0.0</td>\n",
       "      <td>0.05</td>\n",
       "    </tr>\n",
       "    <tr>\n",
       "      <th>1</th>\n",
       "      <td>0.0</td>\n",
       "      <td>2.0</td>\n",
       "      <td>1.947668e-06</td>\n",
       "      <td>0.403670</td>\n",
       "      <td>0.0</td>\n",
       "      <td>2.500234e-07</td>\n",
       "      <td>0.002160</td>\n",
       "      <td>0.068966</td>\n",
       "      <td>0.0</td>\n",
       "      <td>0.0</td>\n",
       "      <td>0.15</td>\n",
       "    </tr>\n",
       "    <tr>\n",
       "      <th>2</th>\n",
       "      <td>0.0</td>\n",
       "      <td>4.0</td>\n",
       "      <td>1.776014e-06</td>\n",
       "      <td>0.614679</td>\n",
       "      <td>0.0</td>\n",
       "      <td>3.504875e-03</td>\n",
       "      <td>0.002217</td>\n",
       "      <td>0.155172</td>\n",
       "      <td>0.0</td>\n",
       "      <td>0.0</td>\n",
       "      <td>0.00</td>\n",
       "    </tr>\n",
       "    <tr>\n",
       "      <th>3</th>\n",
       "      <td>0.0</td>\n",
       "      <td>4.0</td>\n",
       "      <td>3.645582e-07</td>\n",
       "      <td>0.479758</td>\n",
       "      <td>0.0</td>\n",
       "      <td>5.975030e-07</td>\n",
       "      <td>0.003796</td>\n",
       "      <td>0.241379</td>\n",
       "      <td>0.0</td>\n",
       "      <td>0.0</td>\n",
       "      <td>0.15</td>\n",
       "    </tr>\n",
       "    <tr>\n",
       "      <th>4</th>\n",
       "      <td>0.0</td>\n",
       "      <td>3.0</td>\n",
       "      <td>8.246467e-07</td>\n",
       "      <td>0.467890</td>\n",
       "      <td>0.0</td>\n",
       "      <td>1.319643e-08</td>\n",
       "      <td>0.001969</td>\n",
       "      <td>0.086207</td>\n",
       "      <td>0.0</td>\n",
       "      <td>0.0</td>\n",
       "      <td>0.00</td>\n",
       "    </tr>\n",
       "  </tbody>\n",
       "</table>\n",
       "</div>"
      ],
      "text/plain": [
       "   RealEstateLoansOrLines  GroupAge  RevolvingUtilizationOfUnsecuredLines  \\\n",
       "0                     0.0       3.0                          1.437848e-06   \n",
       "1                     0.0       2.0                          1.947668e-06   \n",
       "2                     0.0       4.0                          1.776014e-06   \n",
       "3                     0.0       4.0                          3.645582e-07   \n",
       "4                     0.0       3.0                          8.246467e-07   \n",
       "\n",
       "        age  NumberOfTime30-59DaysPastDueNotWorse     DebtRatio  \\\n",
       "0  0.486239                                   0.0  9.416892e-07   \n",
       "1  0.403670                                   0.0  2.500234e-07   \n",
       "2  0.614679                                   0.0  3.504875e-03   \n",
       "3  0.479758                                   0.0  5.975030e-07   \n",
       "4  0.467890                                   0.0  1.319643e-08   \n",
       "\n",
       "   MonthlyIncome  NumberOfOpenCreditLinesAndLoans  NumberOfTimes90DaysLate  \\\n",
       "0       0.006381                         0.155172                      0.0   \n",
       "1       0.002160                         0.068966                      0.0   \n",
       "2       0.002217                         0.155172                      0.0   \n",
       "3       0.003796                         0.241379                      0.0   \n",
       "4       0.001969                         0.086207                      0.0   \n",
       "\n",
       "   NumberOfTime60-89DaysPastDueNotWorse  NumberOfDependents  \n",
       "0                                   0.0                0.05  \n",
       "1                                   0.0                0.15  \n",
       "2                                   0.0                0.00  \n",
       "3                                   0.0                0.15  \n",
       "4                                   0.0                0.00  "
      ]
     },
     "execution_count": 39,
     "metadata": {},
     "output_type": "execute_result"
    }
   ],
   "source": [
    "lst = list(column_transformer.transformers_[0][1].get_feature_names_out())\n",
    "lst.extend(numeric_features)\n",
    "\n",
    "X_train_transformed = pd.DataFrame(X_train_transformed, columns=lst)\n",
    "X_test_transformed = pd.DataFrame(X_test_transformed, columns=lst)\n",
    "\n",
    "X_train_transformed.head()"
   ]
  },
  {
   "cell_type": "code",
   "execution_count": 40,
   "metadata": {},
   "outputs": [],
   "source": [
    "from sklearn.linear_model import LogisticRegression\n",
    "\n",
    "model = LogisticRegression(random_state=12345, solver='liblinear', class_weight='balanced')\n",
    "\n",
    "model.fit(X_train_transformed, y_train)\n",
    "\n",
    "pred = model.predict_proba(X_test_transformed)[:,1]"
   ]
  },
  {
   "cell_type": "code",
   "execution_count": 48,
   "metadata": {},
   "outputs": [
    {
     "data": {
      "text/html": [
       "<div>\n",
       "<style scoped>\n",
       "    .dataframe tbody tr th:only-of-type {\n",
       "        vertical-align: middle;\n",
       "    }\n",
       "\n",
       "    .dataframe tbody tr th {\n",
       "        vertical-align: top;\n",
       "    }\n",
       "\n",
       "    .dataframe thead th {\n",
       "        text-align: right;\n",
       "    }\n",
       "</style>\n",
       "<table border=\"1\" class=\"dataframe\">\n",
       "  <thead>\n",
       "    <tr style=\"text-align: right;\">\n",
       "      <th></th>\n",
       "      <th>RealEstateLoansOrLines</th>\n",
       "      <th>GroupAge</th>\n",
       "      <th>RevolvingUtilizationOfUnsecuredLines</th>\n",
       "      <th>age</th>\n",
       "      <th>NumberOfTime30-59DaysPastDueNotWorse</th>\n",
       "      <th>DebtRatio</th>\n",
       "      <th>MonthlyIncome</th>\n",
       "      <th>NumberOfOpenCreditLinesAndLoans</th>\n",
       "      <th>NumberOfTimes90DaysLate</th>\n",
       "      <th>NumberOfTime60-89DaysPastDueNotWorse</th>\n",
       "      <th>NumberOfDependents</th>\n",
       "    </tr>\n",
       "  </thead>\n",
       "  <tbody>\n",
       "    <tr>\n",
       "      <th>0</th>\n",
       "      <td>0.0</td>\n",
       "      <td>3.0</td>\n",
       "      <td>1.437848e-06</td>\n",
       "      <td>0.486239</td>\n",
       "      <td>0.0</td>\n",
       "      <td>9.416892e-07</td>\n",
       "      <td>0.006381</td>\n",
       "      <td>0.155172</td>\n",
       "      <td>0.0</td>\n",
       "      <td>0.0</td>\n",
       "      <td>0.05</td>\n",
       "    </tr>\n",
       "    <tr>\n",
       "      <th>1</th>\n",
       "      <td>0.0</td>\n",
       "      <td>2.0</td>\n",
       "      <td>1.947668e-06</td>\n",
       "      <td>0.403670</td>\n",
       "      <td>0.0</td>\n",
       "      <td>2.500234e-07</td>\n",
       "      <td>0.002160</td>\n",
       "      <td>0.068966</td>\n",
       "      <td>0.0</td>\n",
       "      <td>0.0</td>\n",
       "      <td>0.15</td>\n",
       "    </tr>\n",
       "    <tr>\n",
       "      <th>2</th>\n",
       "      <td>0.0</td>\n",
       "      <td>4.0</td>\n",
       "      <td>1.776014e-06</td>\n",
       "      <td>0.614679</td>\n",
       "      <td>0.0</td>\n",
       "      <td>3.504875e-03</td>\n",
       "      <td>0.002217</td>\n",
       "      <td>0.155172</td>\n",
       "      <td>0.0</td>\n",
       "      <td>0.0</td>\n",
       "      <td>0.00</td>\n",
       "    </tr>\n",
       "    <tr>\n",
       "      <th>3</th>\n",
       "      <td>0.0</td>\n",
       "      <td>4.0</td>\n",
       "      <td>3.645582e-07</td>\n",
       "      <td>0.479758</td>\n",
       "      <td>0.0</td>\n",
       "      <td>5.975030e-07</td>\n",
       "      <td>0.003796</td>\n",
       "      <td>0.241379</td>\n",
       "      <td>0.0</td>\n",
       "      <td>0.0</td>\n",
       "      <td>0.15</td>\n",
       "    </tr>\n",
       "    <tr>\n",
       "      <th>4</th>\n",
       "      <td>0.0</td>\n",
       "      <td>3.0</td>\n",
       "      <td>8.246467e-07</td>\n",
       "      <td>0.467890</td>\n",
       "      <td>0.0</td>\n",
       "      <td>1.319643e-08</td>\n",
       "      <td>0.001969</td>\n",
       "      <td>0.086207</td>\n",
       "      <td>0.0</td>\n",
       "      <td>0.0</td>\n",
       "      <td>0.00</td>\n",
       "    </tr>\n",
       "    <tr>\n",
       "      <th>...</th>\n",
       "      <td>...</td>\n",
       "      <td>...</td>\n",
       "      <td>...</td>\n",
       "      <td>...</td>\n",
       "      <td>...</td>\n",
       "      <td>...</td>\n",
       "      <td>...</td>\n",
       "      <td>...</td>\n",
       "      <td>...</td>\n",
       "      <td>...</td>\n",
       "      <td>...</td>\n",
       "    </tr>\n",
       "    <tr>\n",
       "      <th>119995</th>\n",
       "      <td>0.0</td>\n",
       "      <td>2.0</td>\n",
       "      <td>1.948742e-05</td>\n",
       "      <td>0.412844</td>\n",
       "      <td>0.0</td>\n",
       "      <td>1.012704e-06</td>\n",
       "      <td>0.001442</td>\n",
       "      <td>0.068966</td>\n",
       "      <td>0.0</td>\n",
       "      <td>0.0</td>\n",
       "      <td>0.05</td>\n",
       "    </tr>\n",
       "    <tr>\n",
       "      <th>119996</th>\n",
       "      <td>0.0</td>\n",
       "      <td>1.0</td>\n",
       "      <td>0.000000e+00</td>\n",
       "      <td>0.302752</td>\n",
       "      <td>0.0</td>\n",
       "      <td>6.283091e-07</td>\n",
       "      <td>0.000897</td>\n",
       "      <td>0.120690</td>\n",
       "      <td>0.0</td>\n",
       "      <td>0.0</td>\n",
       "      <td>0.00</td>\n",
       "    </tr>\n",
       "    <tr>\n",
       "      <th>119997</th>\n",
       "      <td>0.0</td>\n",
       "      <td>4.0</td>\n",
       "      <td>8.968721e-07</td>\n",
       "      <td>0.614679</td>\n",
       "      <td>0.0</td>\n",
       "      <td>1.278482e-06</td>\n",
       "      <td>0.001213</td>\n",
       "      <td>0.206897</td>\n",
       "      <td>0.0</td>\n",
       "      <td>0.0</td>\n",
       "      <td>0.00</td>\n",
       "    </tr>\n",
       "    <tr>\n",
       "      <th>119998</th>\n",
       "      <td>0.0</td>\n",
       "      <td>1.0</td>\n",
       "      <td>2.409012e-05</td>\n",
       "      <td>0.293578</td>\n",
       "      <td>0.0</td>\n",
       "      <td>2.023134e-06</td>\n",
       "      <td>0.001493</td>\n",
       "      <td>0.396552</td>\n",
       "      <td>0.0</td>\n",
       "      <td>0.0</td>\n",
       "      <td>0.00</td>\n",
       "    </tr>\n",
       "    <tr>\n",
       "      <th>119999</th>\n",
       "      <td>0.0</td>\n",
       "      <td>3.0</td>\n",
       "      <td>1.348655e-05</td>\n",
       "      <td>0.504587</td>\n",
       "      <td>0.0</td>\n",
       "      <td>1.573875e-06</td>\n",
       "      <td>0.001166</td>\n",
       "      <td>0.172414</td>\n",
       "      <td>0.0</td>\n",
       "      <td>0.0</td>\n",
       "      <td>0.05</td>\n",
       "    </tr>\n",
       "  </tbody>\n",
       "</table>\n",
       "<p>120000 rows × 11 columns</p>\n",
       "</div>"
      ],
      "text/plain": [
       "        RealEstateLoansOrLines  GroupAge  \\\n",
       "0                          0.0       3.0   \n",
       "1                          0.0       2.0   \n",
       "2                          0.0       4.0   \n",
       "3                          0.0       4.0   \n",
       "4                          0.0       3.0   \n",
       "...                        ...       ...   \n",
       "119995                     0.0       2.0   \n",
       "119996                     0.0       1.0   \n",
       "119997                     0.0       4.0   \n",
       "119998                     0.0       1.0   \n",
       "119999                     0.0       3.0   \n",
       "\n",
       "        RevolvingUtilizationOfUnsecuredLines       age  \\\n",
       "0                               1.437848e-06  0.486239   \n",
       "1                               1.947668e-06  0.403670   \n",
       "2                               1.776014e-06  0.614679   \n",
       "3                               3.645582e-07  0.479758   \n",
       "4                               8.246467e-07  0.467890   \n",
       "...                                      ...       ...   \n",
       "119995                          1.948742e-05  0.412844   \n",
       "119996                          0.000000e+00  0.302752   \n",
       "119997                          8.968721e-07  0.614679   \n",
       "119998                          2.409012e-05  0.293578   \n",
       "119999                          1.348655e-05  0.504587   \n",
       "\n",
       "        NumberOfTime30-59DaysPastDueNotWorse     DebtRatio  MonthlyIncome  \\\n",
       "0                                        0.0  9.416892e-07       0.006381   \n",
       "1                                        0.0  2.500234e-07       0.002160   \n",
       "2                                        0.0  3.504875e-03       0.002217   \n",
       "3                                        0.0  5.975030e-07       0.003796   \n",
       "4                                        0.0  1.319643e-08       0.001969   \n",
       "...                                      ...           ...            ...   \n",
       "119995                                   0.0  1.012704e-06       0.001442   \n",
       "119996                                   0.0  6.283091e-07       0.000897   \n",
       "119997                                   0.0  1.278482e-06       0.001213   \n",
       "119998                                   0.0  2.023134e-06       0.001493   \n",
       "119999                                   0.0  1.573875e-06       0.001166   \n",
       "\n",
       "        NumberOfOpenCreditLinesAndLoans  NumberOfTimes90DaysLate  \\\n",
       "0                              0.155172                      0.0   \n",
       "1                              0.068966                      0.0   \n",
       "2                              0.155172                      0.0   \n",
       "3                              0.241379                      0.0   \n",
       "4                              0.086207                      0.0   \n",
       "...                                 ...                      ...   \n",
       "119995                         0.068966                      0.0   \n",
       "119996                         0.120690                      0.0   \n",
       "119997                         0.206897                      0.0   \n",
       "119998                         0.396552                      0.0   \n",
       "119999                         0.172414                      0.0   \n",
       "\n",
       "        NumberOfTime60-89DaysPastDueNotWorse  NumberOfDependents  \n",
       "0                                        0.0                0.05  \n",
       "1                                        0.0                0.15  \n",
       "2                                        0.0                0.00  \n",
       "3                                        0.0                0.15  \n",
       "4                                        0.0                0.00  \n",
       "...                                      ...                 ...  \n",
       "119995                                   0.0                0.05  \n",
       "119996                                   0.0                0.00  \n",
       "119997                                   0.0                0.00  \n",
       "119998                                   0.0                0.00  \n",
       "119999                                   0.0                0.05  \n",
       "\n",
       "[120000 rows x 11 columns]"
      ]
     },
     "execution_count": 48,
     "metadata": {},
     "output_type": "execute_result"
    }
   ],
   "source": [
    "X_train_transformed"
   ]
  },
  {
   "cell_type": "markdown",
   "metadata": {},
   "source": [
    "**Оценка качества модели**"
   ]
  },
  {
   "cell_type": "code",
   "execution_count": 41,
   "metadata": {},
   "outputs": [],
   "source": [
    "from sklearn.metrics import recall_score\n",
    "from sklearn.metrics import precision_score"
   ]
  },
  {
   "cell_type": "code",
   "execution_count": 52,
   "metadata": {},
   "outputs": [
    {
     "data": {
      "text/plain": [
       "(array([[19078,  8884],\n",
       "        [  580,  1458]], dtype=int64),\n",
       " 0.7154072620215898)"
      ]
     },
     "execution_count": 52,
     "metadata": {},
     "output_type": "execute_result"
    }
   ],
   "source": [
    "from sklearn.metrics import confusion_matrix\n",
    "classes = (pred > 0.48).astype(int)\n",
    "confusion_matrix(y_test, classes), recall_score(y_test, classes)"
   ]
  },
  {
   "cell_type": "code",
   "execution_count": 43,
   "metadata": {
    "scrolled": true
   },
   "outputs": [
    {
     "data": {
      "text/html": [
       "<div>\n",
       "<style scoped>\n",
       "    .dataframe tbody tr th:only-of-type {\n",
       "        vertical-align: middle;\n",
       "    }\n",
       "\n",
       "    .dataframe tbody tr th {\n",
       "        vertical-align: top;\n",
       "    }\n",
       "\n",
       "    .dataframe thead th {\n",
       "        text-align: right;\n",
       "    }\n",
       "</style>\n",
       "<table border=\"1\" class=\"dataframe\">\n",
       "  <thead>\n",
       "    <tr style=\"text-align: right;\">\n",
       "      <th></th>\n",
       "      <th>weights</th>\n",
       "      <th>features</th>\n",
       "    </tr>\n",
       "  </thead>\n",
       "  <tbody>\n",
       "    <tr>\n",
       "      <th>6</th>\n",
       "      <td>-6.105562</td>\n",
       "      <td>MonthlyIncome</td>\n",
       "    </tr>\n",
       "    <tr>\n",
       "      <th>3</th>\n",
       "      <td>-3.711857</td>\n",
       "      <td>age</td>\n",
       "    </tr>\n",
       "    <tr>\n",
       "      <th>5</th>\n",
       "      <td>-2.429702</td>\n",
       "      <td>DebtRatio</td>\n",
       "    </tr>\n",
       "    <tr>\n",
       "      <th>2</th>\n",
       "      <td>-0.873647</td>\n",
       "      <td>RevolvingUtilizationOfUnsecuredLines</td>\n",
       "    </tr>\n",
       "    <tr>\n",
       "      <th>7</th>\n",
       "      <td>-0.576929</td>\n",
       "      <td>NumberOfOpenCreditLinesAndLoans</td>\n",
       "    </tr>\n",
       "    <tr>\n",
       "      <th>1</th>\n",
       "      <td>0.051773</td>\n",
       "      <td>GroupAge</td>\n",
       "    </tr>\n",
       "    <tr>\n",
       "      <th>0</th>\n",
       "      <td>0.419909</td>\n",
       "      <td>RealEstateLoansOrLines</td>\n",
       "    </tr>\n",
       "    <tr>\n",
       "      <th>10</th>\n",
       "      <td>1.528920</td>\n",
       "      <td>NumberOfDependents</td>\n",
       "    </tr>\n",
       "    <tr>\n",
       "      <th>9</th>\n",
       "      <td>6.515175</td>\n",
       "      <td>NumberOfTime60-89DaysPastDueNotWorse</td>\n",
       "    </tr>\n",
       "    <tr>\n",
       "      <th>8</th>\n",
       "      <td>29.051295</td>\n",
       "      <td>NumberOfTimes90DaysLate</td>\n",
       "    </tr>\n",
       "    <tr>\n",
       "      <th>4</th>\n",
       "      <td>35.635065</td>\n",
       "      <td>NumberOfTime30-59DaysPastDueNotWorse</td>\n",
       "    </tr>\n",
       "  </tbody>\n",
       "</table>\n",
       "</div>"
      ],
      "text/plain": [
       "      weights                              features\n",
       "6   -6.105562                         MonthlyIncome\n",
       "3   -3.711857                                   age\n",
       "5   -2.429702                             DebtRatio\n",
       "2   -0.873647  RevolvingUtilizationOfUnsecuredLines\n",
       "7   -0.576929       NumberOfOpenCreditLinesAndLoans\n",
       "1    0.051773                              GroupAge\n",
       "0    0.419909                RealEstateLoansOrLines\n",
       "10   1.528920                    NumberOfDependents\n",
       "9    6.515175  NumberOfTime60-89DaysPastDueNotWorse\n",
       "8   29.051295               NumberOfTimes90DaysLate\n",
       "4   35.635065  NumberOfTime30-59DaysPastDueNotWorse"
      ]
     },
     "execution_count": 43,
     "metadata": {},
     "output_type": "execute_result"
    }
   ],
   "source": [
    "importances = pd.DataFrame({'weights': model.coef_[0], 'features': X_train_transformed.columns}).sort_values(by='weights')\n",
    "importances"
   ]
  },
  {
   "cell_type": "code",
   "execution_count": 44,
   "metadata": {},
   "outputs": [],
   "source": [
    "import pickle\n",
    "\n",
    "with open('model.pickle', 'wb') as f:\n",
    "    pickle.dump(model, f)\n"
   ]
  }
 ],
 "metadata": {
  "colab": {
   "provenance": []
  },
  "kernelspec": {
   "display_name": "Python 3 (ipykernel)",
   "language": "python",
   "name": "python3"
  },
  "language_info": {
   "codemirror_mode": {
    "name": "ipython",
    "version": 3
   },
   "file_extension": ".py",
   "mimetype": "text/x-python",
   "name": "python",
   "nbconvert_exporter": "python",
   "pygments_lexer": "ipython3",
   "version": "3.11.3"
  }
 },
 "nbformat": 4,
 "nbformat_minor": 1
}
