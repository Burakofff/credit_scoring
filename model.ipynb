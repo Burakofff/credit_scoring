{
 "cells": [
  {
   "cell_type": "code",
   "execution_count": 25,
   "metadata": {
    "id": "HV1hv_cBi-zx"
   },
   "outputs": [],
   "source": [
    "import numpy as np\n",
    "import pandas as pd\n",
    "import seaborn as sns\n",
    "import matplotlib.pyplot as plt"
   ]
  },
  {
   "cell_type": "code",
   "execution_count": 26,
   "metadata": {
    "id": "IfM0ZXowjluS"
   },
   "outputs": [],
   "source": [
    "RANDOM_STATE = 42"
   ]
  },
  {
   "cell_type": "code",
   "execution_count": 27,
   "metadata": {
    "id": "otQxpwuxjoBA"
   },
   "outputs": [],
   "source": [
    "DATASET_PATH = 'https://raw.githubusercontent.com/Burakofff/credit_scoring/main/credit_scoring.csv'"
   ]
  },
  {
   "cell_type": "code",
   "execution_count": 30,
   "metadata": {
    "id": "akRLgc55jyGl"
   },
   "outputs": [],
   "source": [
    "\n",
    "df = pd.read_csv(DATASET_PATH)"
   ]
  },
  {
   "cell_type": "markdown",
   "metadata": {},
   "source": [
    "**filling the voids**"
   ]
  },
  {
   "cell_type": "code",
   "execution_count": null,
   "metadata": {},
   "outputs": [],
   "source": [
    "mean = df['MonthlyIncome'].mean()\n",
    "\n",
    "df['MonthlyIncome'].fillna(mean, inplace=True)"
   ]
  },
  {
   "cell_type": "code",
   "execution_count": null,
   "metadata": {},
   "outputs": [],
   "source": [
    "mean = df['age'].mean()\n",
    "\n",
    "df['age'].fillna(mean, inplace=True)"
   ]
  },
  {
   "cell_type": "code",
   "execution_count": null,
   "metadata": {},
   "outputs": [],
   "source": [
    "df['NumberOfDependents'].fillna(0, inplace=True)"
   ]
  },
  {
   "cell_type": "code",
   "execution_count": 35,
   "metadata": {},
   "outputs": [],
   "source": [
    "X = df.drop(['SeriousDlqin2yrs'], axis=1)\n",
    "\n",
    "y = df['SeriousDlqin2yrs'] "
   ]
  },
  {
   "cell_type": "code",
   "execution_count": 36,
   "metadata": {},
   "outputs": [
    {
     "data": {
      "text/plain": [
       "((120000, 11), (30000, 11))"
      ]
     },
     "execution_count": 36,
     "metadata": {},
     "output_type": "execute_result"
    }
   ],
   "source": [
    "from sklearn.model_selection import train_test_split\n",
    "\n",
    "X_train, X_test, y_train, y_test = train_test_split(X, y, test_size=0.20, random_state=42)\n",
    "\n",
    "X_train.shape, X_test.shape"
   ]
  },
  {
   "cell_type": "markdown",
   "metadata": {},
   "source": [
    "**Pre-processing features:**\n",
    "\n",
    "* lets encode the categorical features\n",
    "* scale the numerical features"
   ]
  },
  {
   "cell_type": "code",
   "execution_count": 37,
   "metadata": {},
   "outputs": [],
   "source": [
    "from sklearn.preprocessing import OrdinalEncoder\n",
    "from sklearn.compose import ColumnTransformer\n",
    "from sklearn.preprocessing import MinMaxScaler\n",
    "\n",
    "categorical = ['RealEstateLoansOrLines', 'GroupAge']\n",
    "numeric_features = [col for col in X_train.columns if col not in categorical]\n",
    "\n",
    "column_transformer = ColumnTransformer([\n",
    "    ('ordinal', OrdinalEncoder(), categorical),  # Заменили 'ohe' на 'ordinal' и OneHotEncoder на OrdinalEncoder\n",
    "    ('scaling', MinMaxScaler(), numeric_features)\n",
    "])\n",
    "\n",
    "X_train_transformed = column_transformer.fit_transform(X_train)\n",
    "X_test_transformed = column_transformer.transform(X_test)"
   ]
  },
  {
   "cell_type": "markdown",
   "metadata": {},
   "source": [
    "**adding the name of the column**"
   ]
  },
  {
   "cell_type": "code",
   "execution_count": 39,
   "metadata": {},
   "outputs": [
    {
     "data": {
      "text/html": [
       "<div>\n",
       "<style scoped>\n",
       "    .dataframe tbody tr th:only-of-type {\n",
       "        vertical-align: middle;\n",
       "    }\n",
       "\n",
       "    .dataframe tbody tr th {\n",
       "        vertical-align: top;\n",
       "    }\n",
       "\n",
       "    .dataframe thead th {\n",
       "        text-align: right;\n",
       "    }\n",
       "</style>\n",
       "<table border=\"1\" class=\"dataframe\">\n",
       "  <thead>\n",
       "    <tr style=\"text-align: right;\">\n",
       "      <th></th>\n",
       "      <th>RealEstateLoansOrLines</th>\n",
       "      <th>GroupAge</th>\n",
       "      <th>RevolvingUtilizationOfUnsecuredLines</th>\n",
       "      <th>age</th>\n",
       "      <th>NumberOfTime30-59DaysPastDueNotWorse</th>\n",
       "      <th>DebtRatio</th>\n",
       "      <th>MonthlyIncome</th>\n",
       "      <th>NumberOfOpenCreditLinesAndLoans</th>\n",
       "      <th>NumberOfTimes90DaysLate</th>\n",
       "      <th>NumberOfTime60-89DaysPastDueNotWorse</th>\n",
       "      <th>NumberOfDependents</th>\n",
       "    </tr>\n",
       "  </thead>\n",
       "  <tbody>\n",
       "    <tr>\n",
       "      <th>0</th>\n",
       "      <td>0.0</td>\n",
       "      <td>3.0</td>\n",
       "      <td>1.437848e-06</td>\n",
       "      <td>0.486239</td>\n",
       "      <td>0.0</td>\n",
       "      <td>9.416892e-07</td>\n",
       "      <td>0.006381</td>\n",
       "      <td>0.155172</td>\n",
       "      <td>0.0</td>\n",
       "      <td>0.0</td>\n",
       "      <td>0.05</td>\n",
       "    </tr>\n",
       "    <tr>\n",
       "      <th>1</th>\n",
       "      <td>0.0</td>\n",
       "      <td>2.0</td>\n",
       "      <td>1.947668e-06</td>\n",
       "      <td>0.403670</td>\n",
       "      <td>0.0</td>\n",
       "      <td>2.500234e-07</td>\n",
       "      <td>0.002160</td>\n",
       "      <td>0.068966</td>\n",
       "      <td>0.0</td>\n",
       "      <td>0.0</td>\n",
       "      <td>0.15</td>\n",
       "    </tr>\n",
       "    <tr>\n",
       "      <th>2</th>\n",
       "      <td>0.0</td>\n",
       "      <td>4.0</td>\n",
       "      <td>1.776014e-06</td>\n",
       "      <td>0.614679</td>\n",
       "      <td>0.0</td>\n",
       "      <td>3.504875e-03</td>\n",
       "      <td>0.002217</td>\n",
       "      <td>0.155172</td>\n",
       "      <td>0.0</td>\n",
       "      <td>0.0</td>\n",
       "      <td>0.00</td>\n",
       "    </tr>\n",
       "    <tr>\n",
       "      <th>3</th>\n",
       "      <td>0.0</td>\n",
       "      <td>4.0</td>\n",
       "      <td>3.645582e-07</td>\n",
       "      <td>0.479758</td>\n",
       "      <td>0.0</td>\n",
       "      <td>5.975030e-07</td>\n",
       "      <td>0.003796</td>\n",
       "      <td>0.241379</td>\n",
       "      <td>0.0</td>\n",
       "      <td>0.0</td>\n",
       "      <td>0.15</td>\n",
       "    </tr>\n",
       "    <tr>\n",
       "      <th>4</th>\n",
       "      <td>0.0</td>\n",
       "      <td>3.0</td>\n",
       "      <td>8.246467e-07</td>\n",
       "      <td>0.467890</td>\n",
       "      <td>0.0</td>\n",
       "      <td>1.319643e-08</td>\n",
       "      <td>0.001969</td>\n",
       "      <td>0.086207</td>\n",
       "      <td>0.0</td>\n",
       "      <td>0.0</td>\n",
       "      <td>0.00</td>\n",
       "    </tr>\n",
       "  </tbody>\n",
       "</table>\n",
       "</div>"
      ],
      "text/plain": [
       "   RealEstateLoansOrLines  GroupAge  RevolvingUtilizationOfUnsecuredLines  \\\n",
       "0                     0.0       3.0                          1.437848e-06   \n",
       "1                     0.0       2.0                          1.947668e-06   \n",
       "2                     0.0       4.0                          1.776014e-06   \n",
       "3                     0.0       4.0                          3.645582e-07   \n",
       "4                     0.0       3.0                          8.246467e-07   \n",
       "\n",
       "        age  NumberOfTime30-59DaysPastDueNotWorse     DebtRatio  \\\n",
       "0  0.486239                                   0.0  9.416892e-07   \n",
       "1  0.403670                                   0.0  2.500234e-07   \n",
       "2  0.614679                                   0.0  3.504875e-03   \n",
       "3  0.479758                                   0.0  5.975030e-07   \n",
       "4  0.467890                                   0.0  1.319643e-08   \n",
       "\n",
       "   MonthlyIncome  NumberOfOpenCreditLinesAndLoans  NumberOfTimes90DaysLate  \\\n",
       "0       0.006381                         0.155172                      0.0   \n",
       "1       0.002160                         0.068966                      0.0   \n",
       "2       0.002217                         0.155172                      0.0   \n",
       "3       0.003796                         0.241379                      0.0   \n",
       "4       0.001969                         0.086207                      0.0   \n",
       "\n",
       "   NumberOfTime60-89DaysPastDueNotWorse  NumberOfDependents  \n",
       "0                                   0.0                0.05  \n",
       "1                                   0.0                0.15  \n",
       "2                                   0.0                0.00  \n",
       "3                                   0.0                0.15  \n",
       "4                                   0.0                0.00  "
      ]
     },
     "execution_count": 39,
     "metadata": {},
     "output_type": "execute_result"
    }
   ],
   "source": [
    "lst = list(column_transformer.transformers_[0][1].get_feature_names_out())\n",
    "lst.extend(numeric_features)\n",
    "\n",
    "X_train_transformed = pd.DataFrame(X_train_transformed, columns=lst)\n",
    "X_test_transformed = pd.DataFrame(X_test_transformed, columns=lst)\n",
    "\n",
    "X_train_transformed.head()"
   ]
  },
  {
   "cell_type": "code",
   "execution_count": 40,
   "metadata": {},
   "outputs": [],
   "source": [
    "from sklearn.linear_model import LogisticRegression\n",
    "\n",
    "model = LogisticRegression(random_state=12345, solver='liblinear', class_weight='balanced')\n",
    "\n",
    "model.fit(X_train_transformed, y_train)\n",
    "\n",
    "pred = model.predict_proba(X_test_transformed)[:,1]"
   ]
  },
  {
   "cell_type": "markdown",
   "metadata": {},
   "source": [
    "**Оevaluating the quality of the model**"
   ]
  },
  {
   "cell_type": "code",
   "execution_count": 41,
   "metadata": {},
   "outputs": [],
   "source": [
    "from sklearn.metrics import recall_score\n",
    "from sklearn.metrics import precision_score"
   ]
  },
  {
   "cell_type": "code",
   "execution_count": 52,
   "metadata": {},
   "outputs": [
    {
     "data": {
      "text/plain": [
       "(array([[19078,  8884],\n",
       "        [  580,  1458]], dtype=int64),\n",
       " 0.7154072620215898)"
      ]
     },
     "execution_count": 52,
     "metadata": {},
     "output_type": "execute_result"
    }
   ],
   "source": [
    "from sklearn.metrics import confusion_matrix\n",
    "classes = (pred > 0.48).astype(int)\n",
    "confusion_matrix(y_test, classes), recall_score(y_test, classes)"
   ]
  },
  {
   "cell_type": "code",
   "execution_count": 44,
   "metadata": {},
   "outputs": [],
   "source": [
    "import pickle\n",
    "\n",
    "with open('model.pickle', 'wb') as f:\n",
    "    pickle.dump(model, f)\n"
   ]
  }
 ],
 "metadata": {
  "colab": {
   "provenance": []
  },
  "kernelspec": {
   "display_name": "Python 3 (ipykernel)",
   "language": "python",
   "name": "python3"
  },
  "language_info": {
   "codemirror_mode": {
    "name": "ipython",
    "version": 3
   },
   "file_extension": ".py",
   "mimetype": "text/x-python",
   "name": "python",
   "nbconvert_exporter": "python",
   "pygments_lexer": "ipython3",
   "version": "3.11.5"
  }
 },
 "nbformat": 4,
 "nbformat_minor": 1
}
